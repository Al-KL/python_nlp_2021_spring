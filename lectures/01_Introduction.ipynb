{
 "cells": [
  {
   "cell_type": "markdown",
   "metadata": {},
   "source": [
    "# Introduction to Python and Natural Language Technologies\n",
    "\n",
    "__Lecture 01-1, Overview__\n",
    "\n",
    "__Feb 09, 2021__\n",
    "\n",
    "__Judit Ács__"
   ]
  },
  {
   "cell_type": "markdown",
   "metadata": {},
   "source": [
    "# About this course\n",
    "\n",
    "All classes are held online for now and probably all semester.\n",
    "\n",
    "Lectures every Tuesday 12:15PM.\n",
    "\n",
    "Laboratories every Thursday 12:15PM.\n",
    "\n",
    "Parts of the course:\n",
    "1. Python, Week 1 to 4\n",
    "2. Data science on Week 5\n",
    "3. Deep learning in NLP, Week 6 to 10\n",
    "4. Advanced Python topics, Week 11 and 12\n",
    "4. Homework presentations, Week 13\n",
    "\n",
    "We use the [Github repository](https://github.com/bmeaut/python_nlp_2021_spring) as a course page."
   ]
  },
  {
   "cell_type": "markdown",
   "metadata": {},
   "source": [
    "# Instructors\n",
    "\n",
    "|Judit Ács | Ádám Kovács | Kinga Gémes | Attila Nagy | Balázs Frey |\n",
    "| :----: | :---: | :----: | :----: | :----: |\n",
    "| Main lecturer | Head TA | Head TA | TA (demonstrator) | TA (demonstrator) |\n",
    "| ![](img/people/judit.jpg) |![](img/people/adam.jpg) |![](img/people/kinga.jpg) |![](img/people/attila.jpg) |   ![](img/people/balazs.jpg) |"
   ]
  },
  {
   "cell_type": "markdown",
   "metadata": {},
   "source": [
    "# Course logistics\n",
    "\n",
    "- Everything will be available online regardless of the pandemic situation.\n",
    "- The main communication platform is Microsoft Teams\n",
    "    - Ask your questions in the public channel.\n",
    "    - Questions asked in private may be redirected to the publish channel.\n",
    "    - Feel free to answer questions asked by others.\n",
    "    - Extra points for the most active users.\n",
    "- This course is in English.\n",
    "    - We use English on Teams.\n",
    "    - Your source code should use English variable names and comments.\n",
    "    - Final project presentation.\n",
    "    - Your final project documentation should be written in __good__ English.\n",
    "    - Personal communication in Hungarian is ok."
   ]
  },
  {
   "cell_type": "markdown",
   "metadata": {},
   "source": [
    "# Lectures\n",
    "\n",
    "- All lectures are one or more Jupyter notebooks like this one.\n",
    "- We release a pre-lecture version shortly before the lecture.\n",
    "    - In practice this is pushed to the [Github repository](https://github.com/bmeaut/python_nlp_2021_spring) which you should pull before the lecture.\n",
    "    - You can follow it on your own computer or you can watch the lecturer share their screen.\n",
    "        - If you have two screens, we recommend having both simultaneously.\n",
    "    - You can ask questions during the lecture and the lecturer will often incorporate the answer into the notebook.\n",
    "    - We push the final version after the lecture. This will run without exceptions.\n",
    "    - We welcome feedback. An Errata (collection of errors) will be maintained and we update the post-lecture versions."
   ]
  },
  {
   "cell_type": "markdown",
   "metadata": {},
   "source": [
    "# Assignments\n",
    "\n",
    "- In-person labs are replaced by 12 small assignments handled through Github Classroom.\n",
    "- We will post the invitation links on Wednesday evening or Thursday morning.\n",
    "- You have to link your Github user with your name on the first week.\n",
    "- The deadline for each assignment is Sunday 23:59.\n",
    "- Your last commit before the deadline is your submission (don't forget to push it).\n",
    "    \n",
    "- 2-level grading:\n",
    "    1. Passing level: should roughly fit into 90 minutes work.\n",
    "    2. Extra level: close to completion.\n",
    "- There will be tests but passing all tests does not mean you have a perfect homework.\n",
    "\n",
    "- We provide one-on-one consultation during the lab time (Thursday 12:15).\n",
    "    1. Try to figure out the task alone first. Request a one-on-one in the Laboratories channel if you're stuck.\n",
    "    1. Wait for one of the instructors to reach out. This will be done in a manual FIFO.\n",
    "    1. Be prepared to take the call and share your screen."
   ]
  },
  {
   "cell_type": "markdown",
   "metadata": {},
   "source": [
    "# Final project\n",
    "\n",
    "- Group (2-3 people) or individual.\n",
    "- You are required to implement, train and evaluate a deep neural model on a task involving natural language.\n",
    "- You should form teams early.\n",
    "    - If you plan to drop out of the course, let your teammates know as soon as possible.\n",
    "- A project proposal has to be submitted until __Week 8__ but we recommend starting sooner.\n",
    "- The proposal is finalized until __Week 10__.\n",
    "- Final presentation on __Week 13__.\n",
    "- An English documentation is required along with the submission.\n",
    "    - Academic style paper.\n",
    "    - We recommend using LateX in Overleaf using the [EMNLP 2020 template](https://www.overleaf.com/latex/templates/emnlp-2020/knvtcxwzhbbz).\n",
    "    - 1-4 pages, please be concise.\n",
    "- Blog post for extra points."
   ]
  },
  {
   "cell_type": "markdown",
   "metadata": {},
   "source": [
    "# Requirements and grading\n",
    "\n",
    "## Minimal requirements\n",
    "\n",
    "- Online attendance is not required but it is recommended.\n",
    "- Passing level on at least 9 out of 12 labs.\n",
    "- Final project acceptance (code+presentation+documentation).\n",
    "- Oral exam.\n",
    "    1. NLP topic: main topic, determines most of the grade.\n",
    "    1. Python topic: need to pass, but only affects the NLP grade by $\\pm$1."
   ]
  },
  {
   "cell_type": "markdown",
   "metadata": {},
   "source": [
    "## Projected grade\n",
    "\n",
    "- Students who perform well during the semester may be offered a grade 5 or 4 and do not have to take the final exam.\n",
    "\n",
    "- Grade 5 minimal requirements\n",
    "    - __Extra level__ on 9 out of 12 labs\n",
    "    - Excellent final project.\n",
    "    \n",
    "- Grade 4 minimal requirements\n",
    "    - __Extra level__ on 6 out of 12 labs\n",
    "    - Good final project.\n",
    "    \n",
    "- Good to have\n",
    "    - Blog post about your final project.\n",
    "    - Being active during classes.\n",
    "    - Helping others on Teams.\n",
    "    - Contributing to the Errata (list of mistakes in the lectures/labs)."
   ]
  },
  {
   "cell_type": "markdown",
   "metadata": {},
   "source": [
    "# Academic integrity\n",
    "\n",
    "- You must submit your own work through Github Classroom.\n",
    "- You may use outside resources unless explicitly prohibited but you must cite those resources.\n",
    "\n",
    "## Plagiarism\n",
    "\n",
    "- Plagiarism results in the instant failure of the course.\n",
    "- Examples of plagiarism:\n",
    "    - Copying another student's homework.\n",
    "    - Copying from external resources without citing them.\n",
    "    - Solving homeworks through 'manual copying' (e.g. one person shared their screen which others copy from)."
   ]
  },
  {
   "cell_type": "markdown",
   "metadata": {},
   "source": [
    "# Technical setup\n",
    "\n",
    "- All lectures and labs are Jupyter notebooks.\n",
    "- The [Anaconda distribution](https://docs.anaconda.com/anaconda/install/) contains almost all dependencies.\n",
    "- Alternatively you can install them one-by-one using [Miniconda](https://docs.anaconda.com/anaconda/install/)\n",
    "- Jupyter [extensions](https://jupyter-contrib-nbextensions.readthedocs.io/en/latest/install.html)\n",
    "    - Table of Contents (main/toc2)\n",
    "    - I use [VIM bindings](https://github.com/lambdalisue/jupyter-vim-binding)\n",
    "- Limited GPU resources can be requested from us.\n",
    "- Google Colab is inconvenient but available.\n",
    "\n",
    "## Sidenote\n",
    "\n",
    "- Deep learning is used almost exclusively in a Linux environment.\n",
    "- You need to be comfortable using the command line if you are serious about deep learning and NLP.\n",
    "- Most NLP and deep learning libraries have better support for Linux and MacOS than Windows.\n",
    "- Most papers nowadays release the source code for their experiments with Linux support only."
   ]
  },
  {
   "cell_type": "code",
   "execution_count": null,
   "metadata": {},
   "outputs": [],
   "source": []
  }
 ],
 "metadata": {
  "kernelspec": {
   "display_name": "Python 3",
   "language": "python",
   "name": "python3"
  },
  "language_info": {
   "codemirror_mode": {
    "name": "ipython",
    "version": 3
   },
   "file_extension": ".py",
   "mimetype": "text/x-python",
   "name": "python",
   "nbconvert_exporter": "python",
   "pygments_lexer": "ipython3",
   "version": "3.8.5"
  },
  "toc": {
   "base_numbering": 1,
   "nav_menu": {},
   "number_sections": true,
   "sideBar": true,
   "skip_h1_title": false,
   "title_cell": "Table of Contents",
   "title_sidebar": "Contents",
   "toc_cell": false,
   "toc_position": {},
   "toc_section_display": true,
   "toc_window_display": true
  }
 },
 "nbformat": 4,
 "nbformat_minor": 4
}
